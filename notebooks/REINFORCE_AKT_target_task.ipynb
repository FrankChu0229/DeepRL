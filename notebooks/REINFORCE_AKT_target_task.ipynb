yep
{
 "cells": [
  {
   "cell_type": "markdown",
   "metadata": {},
   "source": [
    "# REINFORCE vs AKT statistics for target task"
   ]
  },
  {
   "cell_type": "markdown",
   "metadata": {},
   "source": [
    "## Imports"
   ]
  },
  {
   "cell_type": "code",
   "execution_count": 2,
   "metadata": {
    "collapsed": false
   },
   "outputs": [],
   "source": [
    "import sys\n",
    "sys.path.append(\"/Users/arnomoonens/Dropbox/MA2-AI/Thesis/code/DeepRL/\")\n",
    "from misc.plot_statistics import *\n",
    "from numpy import trapz  # For calculating AUC\n",
    "from tensorflow.python.summary.event_multiplexer import EventMultiplexer, GetLogdirSubdirectories\n",
    "import logging\n",
    "logging.getLogger(\"tensorflow\").setLevel(logging.WARNING)\n",
    "\n",
    "%matplotlib inline"
   ]
  },
  {
   "cell_type": "markdown",
   "metadata": {},
   "source": [
    "# Loading data"
   ]
  },
  {
   "cell_type": "code",
   "execution_count": null,
   "metadata": {
    "collapsed": true
   },
   "outputs": [],
   "source": [
    "sum_dir_akt_10 = \"/Users/arnomoonens/Dropbox/MA2-AI/Thesis/experiments/cluster/AKT/exp15/exp62768\"\n",
    "sum_dir_re = \"/Users/arnomoonens/Dropbox/MA2-AI/Thesis/experiments/cluster/RE/exp16/exp62796\"\n",
    "\n",
    "em_akt = EventMultiplexer().AddRunsFromDirectory(sum_dir_akt_10).Reload()\n",
    "em_re  = EventMultiplexer().AddRunsFromDirectory(sum_dir_re).Reload()"
   ]
  },
  {
   "cell_type": "markdown",
   "metadata": {},
   "source": [
    "## Processing data"
   ]
  },
  {
   "cell_type": "code",
   "execution_count": 54,
   "metadata": {
    "collapsed": true
   },
   "outputs": [],
   "source": [
    "data_akt = tf_scalar_data(em_akt)\n",
    "data_re = tf_scalar_data(em_re)\n",
    "\n",
    "rewards_re = np.array(data_re[\"Rewards_1\"][0][\"values\"])[:,:100]\n",
    "mean_rewards_re = np.mean(rewards_re, axis=0)[:100]\n",
    "\n",
    "rewards_akt = np.array(data_akt[\"Reward\"][4][\"values\"])[:,:100]\n",
    "mean_rewards_akt = np.mean(rewards_akt, axis=0)\n",
    "x = range(100)"
   ]
  },
  {
   "cell_type": "markdown",
   "metadata": {},
   "source": [
    "## Plot"
   ]
  },
  {
   "cell_type": "code",
   "execution_count": 67,
   "metadata": {
    "collapsed": false
   },
   "outputs": [],
   "source": [
    "plt.plot(x, mean_rewards_re, label=\"REINFORCE\")\n",
    "plt.plot(x, mean_rewards_akt, label=\"AKT\")\n",
    "plt.xlabel(\"Epoch\")\n",
    "plt.ylabel(\"Reward\")\n",
    "plt.xlim(xmin=0, xmax=30)\n",
    "plt.legend()\n",
    "plt.show()"
   ]
  },
  {
   "cell_type": "markdown",
   "metadata": {},
   "source": [
    "## Other statistics"
   ]
  },
  {
   "cell_type": "code",
   "execution_count": 64,
   "metadata": {
    "collapsed": false
   },
   "outputs": [],
   "source": [
    "print(\"Jumpstart\\n\\tREINFORCE: {:.3f}\\n\\tAKT: {:.3f}\".format(mean_rewards_re[0], mean_rewards_akt[0]))\n",
    "auc_re = trapz(mean_rewards_re)\n",
    "auc_akt = trapz(mean_rewards_akt)\n",
    "print(\"Total rewards (AUC)\\n\\tREINFORCE: {:.3f}\\n\\tAKT: {:.3f}\".format(auc_re, auc_akt))\n",
    "print(\"Transfer ratio: {:.4f}\".format((auc_akt - auc_re) / auc_re))"
   ]
  },
  {
   "cell_type": "markdown",
   "metadata": {},
   "source": [
    "### Jumpstarts boxplot"
   ]
  },
  {
   "cell_type": "code",
   "execution_count": 68,
   "metadata": {
    "collapsed": false
   },
   "outputs": [],
   "source": [
    "plt.boxplot([rewards_re[:,0], rewards_akt[:,0]])\n",
    "plt.xticks([1,2], [\"REINFORCE\", \"AKTL\"])\n",
    "plt.ylim(ymin=0)\n",
    "plt.show()"
   ]
  },
  {
   "cell_type": "markdown",
   "metadata": {
    "collapsed": true
   },
   "source": [
    "### Asymptotic performance boxplot"
   ]
  },
  {
   "cell_type": "code",
   "execution_count": 69,
   "metadata": {
    "collapsed": false
   },
   "outputs": [],
   "source": [
    "plt.boxplot([rewards_re[:,-1], rewards_akt[:,-1]])\n",
    "plt.xticks([1,2], [\"REINFORCE\", \"AKT\"])\n",
    "plt.ylim(ymin=0,ymax=210)\n",
    "plt.show()"
   ]
  },
  {
   "cell_type": "code",
   "execution_count": null,
   "metadata": {
    "collapsed": true
   },
   "outputs": [],
   "source": []
  }
 ],
 "metadata": {
  "anaconda-cloud": {},
  "git": {
   "suppress_outputs": true
  },
  "kernelspec": {
   "display_name": "Python [conda env:thesis]",
   "language": "python",
   "name": "conda-env-thesis-py"
  },
  "language_info": {
   "codemirror_mode": {
    "name": "ipython",
    "version": 3
   },
   "file_extension": ".py",
   "mimetype": "text/x-python",
   "name": "python",
   "nbconvert_exporter": "python",
   "pygments_lexer": "ipython3",
   "version": "3.5.2"
  }
 },
 "nbformat": 4,
 "nbformat_minor": 1
}