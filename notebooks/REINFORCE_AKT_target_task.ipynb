{
 "cells": [
  {
   "cell_type": "markdown",
   "execution_count": null,
   "metadata": {},
   "source": [
    "# REINFORCE vs AKT statistics for target task"
   ]
  },
  {
   "cell_type": "markdown",
   "execution_count": null,
   "metadata": {},
   "source": [
    "## Imports"
   ]
  },
  {
   "cell_type": "code",
   "execution_count": null,
   "metadata": {
    "collapsed": false
   },
   "outputs": [],
   "source": [
    "import sys\n",
    "sys.path.append(\"/Users/arnomoonens/Dropbox/MA2-AI/Thesis/code/DeepRL/\")\n",
    "from misc.plot_statistics import *\n",
    "from numpy import trapz  # For calculating AUC\n",
    "from tensorflow.python.summary.event_multiplexer import EventMultiplexer, GetLogdirSubdirectories\n",
    "import logging\n",
    "logging.getLogger(\"tensorflow\").setLevel(logging.WARNING)\n",
    "\n",
    "%matplotlib inline"
   ]
  },
  {
   "cell_type": "markdown",
   "execution_count": null,
   "metadata": {},
   "source": [
    "# Loading data"
   ]
  },
  {
   "cell_type": "code",
   "execution_count": null,
   "metadata": {
    "collapsed": true
   },
   "outputs": [],
   "source": [
    "sum_dir_akt_5 = \"/Users/arnomoonens/Dropbox/MA2-AI/Thesis/experiments/cluster/AKT/exp15/exp62768\"\n",
    "sum_dir_akt_10 = \"/Users/arnomoonens/Dropbox/MA2-AI/Thesis/experiments/cluster/AKT/exp13/exp62479\"\n",
    "sum_dir_re = \"/Users/arnomoonens/Dropbox/MA2-AI/Thesis/experiments/cluster/RE/exp16/exp62796\"\n",
    "\n",
    "em_akt_5 = EventMultiplexer().AddRunsFromDirectory(sum_dir_akt_5).Reload()\n",
    "em_akt_10 = EventMultiplexer().AddRunsFromDirectory(sum_dir_akt_10).Reload()\n",
    "em_re  = EventMultiplexer().AddRunsFromDirectory(sum_dir_re).Reload()"
   ]
  },
  {
   "cell_type": "markdown",
   "execution_count": null,
   "metadata": {},
   "source": [
    "## Processing data"
   ]
  },
  {
   "cell_type": "code",
   "execution_count": null,
   "metadata": {
    "collapsed": true
   },
   "outputs": [],
   "source": [
    "data_akt_5 = tf_scalar_data(em_akt_5)\n",
    "data_akt_10 = tf_scalar_data(em_akt_10)\n",
    "data_re = tf_scalar_data(em_re)\n",
    "\n",
    "rewards_re = np.array(data_re[\"Rewards_1\"][0][\"values\"])[:,:100]\n",
    "mean_rewards_re = np.mean(rewards_re, axis=0)[:100]\n",
    "\n",
    "rewards_akt_10 = np.array(data_akt_10[\"Reward\"][4][\"values\"])[:,:100]\n",
    "mean_rewards_akt_10 = np.mean(rewards_akt_10, axis=0)\n",
    "\n",
    "rewards_akt_5 = np.array(data_akt_5[\"Reward\"][4][\"values\"])[:,:100]\n",
    "mean_rewards_akt_5 = np.mean(rewards_akt_5, axis=0)\n",
    "\n",
    "x = range(100)"
   ]
  },
  {
   "cell_type": "markdown",
   "execution_count": null,
   "metadata": {},
   "source": [
    "## Plot"
   ]
  },
  {
   "cell_type": "code",
   "execution_count": null,
   "metadata": {
    "collapsed": false
   },
   "outputs": [],
   "source": [
    "plt.plot(x, mean_rewards_re, label=\"REINFORCE\")\n",
    "plt.plot(x, mean_rewards_akt_5, label=\"TLA\")\n",
    "#plt.plot(x, mean_rewards_akt_10, label=\"AKT 10\")\n",
    "plt.xlabel(\"Epoch\")\n",
    "plt.ylabel(\"Reward\")\n",
    "plt.xlim(xmin=0, xmax=30)\n",
    "plt.legend()\n",
    "plt.show()"
   ]
  },
  {
   "cell_type": "markdown",
   "execution_count": null,
   "metadata": {},
   "source": [
    "## Other statistics"
   ]
  },
  {
   "cell_type": "code",
   "execution_count": null,
   "metadata": {
    "collapsed": false
   },
   "outputs": [],
   "source": [
    "print(\"Jumpstart\")\n",
    "print(\"\\tMean\\n\\t\\tREINFORCE: {:.3f}\\n\\t\\tAKT 5: {:.3f}\\n\\t\\tAKT 10: {:.3f}\".format(mean_rewards_re[0], mean_rewards_akt_5[0], mean_rewards_akt_10[0]))\n",
    "auc_re = trapz(mean_rewards_re)\n",
    "auc_akt_5 = trapz(mean_rewards_akt_5)\n",
    "auc_akt_10 = trapz(mean_rewards_akt_10)\n",
    "print(\"\\tMedian\\n\")\n",
    "print(\"\\t\\tREINFORCE: {:.3f}\\n\\t\\tAKT 5: {:.3f}\\n\\t\\tAKT 10: {:.3f}\".format(np.median(rewards_re[:,0]), np.median(rewards_akt_5[:,0]), np.median(rewards_akt_10[:,0])))\n",
    "print(\"Total rewards (AUC)\\n\\tREINFORCE: {:.3f}\\n\\tAKT 5: {:.3f}\\n\\tAKT 10: : {:.3f}\".format(auc_re, auc_akt_5, auc_akt_10))\n",
    "print(\"Transfer ratio\\n\\tFor AKT 5: {:.4f}\\n\\tFor AKT 10: {:.4f}\".format((auc_akt_5 - auc_re) / auc_re, (auc_akt_10 - auc_re) / auc_re))"
   ]
  },
  {
   "cell_type": "markdown",
   "execution_count": null,
   "metadata": {},
   "source": [
    "### Jumpstarts boxplot"
   ]
  },
  {
   "cell_type": "code",
   "execution_count": null,
   "metadata": {
    "collapsed": false
   },
   "outputs": [],
   "source": [
    "bp = plt.boxplot([rewards_re[:,0], rewards_akt_5[:,0]])\n",
    "plt.xticks([1,2], [\"REINFORCE\", \"TLA\"])\n",
    "plt.ylabel(\"Reward\")\n",
    "plt.ylim(ymin=0)\n",
    "plt.show()"
   ]
  },
  {
   "cell_type": "code",
   "execution_count": null,
   "metadata": {
    "collapsed": false
   },
   "outputs": [],
   "source": [
    "bp[\"boxes\"][0].get_ydata()"
   ]
  },
  {
   "cell_type": "markdown",
   "execution_count": null,
   "metadata": {
    "collapsed": true
   },
   "source": [
    "### Asymptotic performance boxplot"
   ]
  },
  {
   "cell_type": "code",
   "execution_count": null,
   "metadata": {
    "collapsed": false
   },
   "outputs": [],
   "source": [
    "plt.boxplot([rewards_re[:,-1], rewards_akt[:,-1]])\n",
    "plt.xticks([1,2], [\"REINFORCE\", \"AKT\"])\n",
    "plt.ylim(ymin=0,ymax=210)\n",
    "plt.show()"
   ]
  },
  {
   "cell_type": "code",
   "execution_count": null,
   "metadata": {
    "collapsed": true
   },
   "outputs": [],
   "source": []
  }
 ],
 "metadata": {
  "anaconda-cloud": {},
  "git": {
   "suppress_outputs": true
  },
  "kernelspec": {
   "display_name": "Python [conda env:thesis]",
   "language": "python",
   "name": "conda-env-thesis-py"
  },
  "language_info": {
   "codemirror_mode": {
    "name": "ipython",
    "version": 3
   },
   "file_extension": ".py",
   "mimetype": "text/x-python",
   "name": "python",
   "nbconvert_exporter": "python",
   "pygments_lexer": "ipython3",
   "version": "3.5.2"
  }
 },
 "nbformat": 4,
 "nbformat_minor": 1
}